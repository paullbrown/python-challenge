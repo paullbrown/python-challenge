{
 "cells": [
  {
   "cell_type": "code",
   "execution_count": 8,
   "id": "caf6706f-7d42-49c8-b248-ea187f922d84",
   "metadata": {},
   "outputs": [],
   "source": [
    "# import dependencies\n",
    "import pandas as pd\n",
    "import os\n",
    "import csv\n",
    "import numpy"
   ]
  },
  {
   "cell_type": "code",
   "execution_count": 9,
   "id": "ec850ddd-9ff5-49f8-8bbd-b41e6eab9716",
   "metadata": {},
   "outputs": [
    {
     "data": {
      "text/html": [
       "<div>\n",
       "<style scoped>\n",
       "    .dataframe tbody tr th:only-of-type {\n",
       "        vertical-align: middle;\n",
       "    }\n",
       "\n",
       "    .dataframe tbody tr th {\n",
       "        vertical-align: top;\n",
       "    }\n",
       "\n",
       "    .dataframe thead th {\n",
       "        text-align: right;\n",
       "    }\n",
       "</style>\n",
       "<table border=\"1\" class=\"dataframe\">\n",
       "  <thead>\n",
       "    <tr style=\"text-align: right;\">\n",
       "      <th></th>\n",
       "      <th>Date</th>\n",
       "      <th>Profit/Losses</th>\n",
       "    </tr>\n",
       "  </thead>\n",
       "  <tbody>\n",
       "    <tr>\n",
       "      <th>0</th>\n",
       "      <td>Jan-10</td>\n",
       "      <td>1088983</td>\n",
       "    </tr>\n",
       "    <tr>\n",
       "      <th>1</th>\n",
       "      <td>Feb-10</td>\n",
       "      <td>-354534</td>\n",
       "    </tr>\n",
       "    <tr>\n",
       "      <th>2</th>\n",
       "      <td>Mar-10</td>\n",
       "      <td>276622</td>\n",
       "    </tr>\n",
       "    <tr>\n",
       "      <th>3</th>\n",
       "      <td>Apr-10</td>\n",
       "      <td>-728133</td>\n",
       "    </tr>\n",
       "    <tr>\n",
       "      <th>4</th>\n",
       "      <td>May-10</td>\n",
       "      <td>852993</td>\n",
       "    </tr>\n",
       "  </tbody>\n",
       "</table>\n",
       "</div>"
      ],
      "text/plain": [
       "     Date  Profit/Losses\n",
       "0  Jan-10        1088983\n",
       "1  Feb-10        -354534\n",
       "2  Mar-10         276622\n",
       "3  Apr-10        -728133\n",
       "4  May-10         852993"
      ]
     },
     "execution_count": 9,
     "metadata": {},
     "output_type": "execute_result"
    }
   ],
   "source": [
    "# find and read CSV file\n",
    "budget_data_csv_path = \"Resources/budget_data.csv\"\n",
    "budget_data_df = pd.read_csv(budget_data_csv_path, encoding=\"utf8\")\n",
    "budget_data_df.head()"
   ]
  },
  {
   "cell_type": "code",
   "execution_count": 10,
   "id": "4a08fca4-0548-44bd-8506-e1c878bc93fe",
   "metadata": {},
   "outputs": [
    {
     "data": {
      "text/html": [
       "<div>\n",
       "<style scoped>\n",
       "    .dataframe tbody tr th:only-of-type {\n",
       "        vertical-align: middle;\n",
       "    }\n",
       "\n",
       "    .dataframe tbody tr th {\n",
       "        vertical-align: top;\n",
       "    }\n",
       "\n",
       "    .dataframe thead th {\n",
       "        text-align: right;\n",
       "    }\n",
       "</style>\n",
       "<table border=\"1\" class=\"dataframe\">\n",
       "  <thead>\n",
       "    <tr style=\"text-align: right;\">\n",
       "      <th></th>\n",
       "      <th>Date</th>\n",
       "      <th>Profit/Losses</th>\n",
       "    </tr>\n",
       "  </thead>\n",
       "  <tbody>\n",
       "    <tr>\n",
       "      <th>0</th>\n",
       "      <td>Jan-10</td>\n",
       "      <td>1088983</td>\n",
       "    </tr>\n",
       "    <tr>\n",
       "      <th>1</th>\n",
       "      <td>Feb-10</td>\n",
       "      <td>-354534</td>\n",
       "    </tr>\n",
       "    <tr>\n",
       "      <th>2</th>\n",
       "      <td>Mar-10</td>\n",
       "      <td>276622</td>\n",
       "    </tr>\n",
       "    <tr>\n",
       "      <th>3</th>\n",
       "      <td>Apr-10</td>\n",
       "      <td>-728133</td>\n",
       "    </tr>\n",
       "    <tr>\n",
       "      <th>4</th>\n",
       "      <td>May-10</td>\n",
       "      <td>852993</td>\n",
       "    </tr>\n",
       "    <tr>\n",
       "      <th>...</th>\n",
       "      <td>...</td>\n",
       "      <td>...</td>\n",
       "    </tr>\n",
       "    <tr>\n",
       "      <th>81</th>\n",
       "      <td>Oct-16</td>\n",
       "      <td>-729004</td>\n",
       "    </tr>\n",
       "    <tr>\n",
       "      <th>82</th>\n",
       "      <td>Nov-16</td>\n",
       "      <td>-112209</td>\n",
       "    </tr>\n",
       "    <tr>\n",
       "      <th>83</th>\n",
       "      <td>Dec-16</td>\n",
       "      <td>516313</td>\n",
       "    </tr>\n",
       "    <tr>\n",
       "      <th>84</th>\n",
       "      <td>Jan-17</td>\n",
       "      <td>607208</td>\n",
       "    </tr>\n",
       "    <tr>\n",
       "      <th>85</th>\n",
       "      <td>Feb-17</td>\n",
       "      <td>382539</td>\n",
       "    </tr>\n",
       "  </tbody>\n",
       "</table>\n",
       "<p>86 rows × 2 columns</p>\n",
       "</div>"
      ],
      "text/plain": [
       "      Date  Profit/Losses\n",
       "0   Jan-10        1088983\n",
       "1   Feb-10        -354534\n",
       "2   Mar-10         276622\n",
       "3   Apr-10        -728133\n",
       "4   May-10         852993\n",
       "..     ...            ...\n",
       "81  Oct-16        -729004\n",
       "82  Nov-16        -112209\n",
       "83  Dec-16         516313\n",
       "84  Jan-17         607208\n",
       "85  Feb-17         382539\n",
       "\n",
       "[86 rows x 2 columns]"
      ]
     },
     "execution_count": 10,
     "metadata": {},
     "output_type": "execute_result"
    }
   ],
   "source": [
    "budget_data_df"
   ]
  },
  {
   "cell_type": "code",
   "execution_count": 25,
   "id": "0f2a526b-ae12-4c9e-92df-52f398cd27db",
   "metadata": {},
   "outputs": [
    {
     "name": "stdout",
     "output_type": "stream",
     "text": [
      "86\n"
     ]
    }
   ],
   "source": [
    "# determine number of entries \n",
    "totalmonths = len(budget_data_df['Date'])\n",
    "print(totalmonths)"
   ]
  },
  {
   "cell_type": "code",
   "execution_count": 24,
   "id": "37901def-6d52-4adc-a00b-d152eb28f03b",
   "metadata": {},
   "outputs": [
    {
     "name": "stdout",
     "output_type": "stream",
     "text": [
      "22564198\n"
     ]
    }
   ],
   "source": [
    "# sum of ProfitLoss column\n",
    "sumprofit = budget_data_df['Profit/Losses'].sum()\n",
    "print(sumprofit)"
   ]
  },
  {
   "cell_type": "code",
   "execution_count": 26,
   "id": "509a2828-717c-4674-a43d-f09ecd0b58ff",
   "metadata": {},
   "outputs": [
    {
     "name": "stdout",
     "output_type": "stream",
     "text": [
      "0           NaN\n",
      "1    -1443517.0\n",
      "2      631156.0\n",
      "3    -1004755.0\n",
      "4     1581126.0\n",
      "        ...    \n",
      "81   -1627245.0\n",
      "82     616795.0\n",
      "83     628522.0\n",
      "84      90895.0\n",
      "85    -224669.0\n",
      "Name: Profit/Losses, Length: 86, dtype: float64\n"
     ]
    }
   ],
   "source": [
    "# discrete difference of ProfitLoss column\n",
    "change_df = budget_data_df['Profit/Losses'].diff()\n",
    "print(change_df)"
   ]
  },
  {
   "cell_type": "code",
   "execution_count": 57,
   "id": "3bfded5f-3577-4768-8e28-cc0a26e486ac",
   "metadata": {},
   "outputs": [
    {
     "name": "stdout",
     "output_type": "stream",
     "text": [
      "-8311.105882352942\n"
     ]
    }
   ],
   "source": [
    "# average of discrete difference of ProfitLoss column\n",
    "avgchange_df = change_df.mean()\n",
    "print(avgchange_df)"
   ]
  },
  {
   "cell_type": "code",
   "execution_count": 30,
   "id": "d508b086-e7c4-4061-b7ae-d6eabe33ac9b",
   "metadata": {},
   "outputs": [
    {
     "name": "stdout",
     "output_type": "stream",
     "text": [
      "1862002.0\n",
      "-1825558.0\n"
     ]
    }
   ],
   "source": [
    "# determine Min and Max values from list of column changes\n",
    "max_change_df = change_df.max()\n",
    "min_change_df = change_df.min()\n",
    "\n",
    "print(max_change_df)\n",
    "print(min_change_df)"
   ]
  },
  {
   "cell_type": "code",
   "execution_count": 55,
   "id": "feaeb953-a26c-44ea-a817-253550d7725e",
   "metadata": {},
   "outputs": [
    {
     "name": "stdout",
     "output_type": "stream",
     "text": [
      "Financial Analysis\n",
      "\n",
      "-----------------------\n",
      "\n",
      "Total Months: 86\n",
      "\n",
      "Total: 22564198\n",
      "\n",
      "Average Change: -8311.105882352942\n",
      "\n",
      "Greatest Increase in Profits: 1862002.0\n",
      "\n",
      "Greatest Decrease in Profits: -1825558.0\n"
     ]
    }
   ],
   "source": [
    "# print to terminal\n",
    "print('Financial Analysis')\n",
    "print()\n",
    "print('-----------------------')\n",
    "print()\n",
    "print('Total Months: ' + str(totalmonths))\n",
    "print()\n",
    "print('Total: ' + str(sumprofit))\n",
    "print()\n",
    "print('Average Change: ' + str(rounded_avgchange_df))\n",
    "print()\n",
    "print('Greatest Increase in Profits: ' + str(max_change_df))\n",
    "print()\n",
    "print('Greatest Decrease in Profits: ' +str( min_change_df))      "
   ]
  },
  {
   "cell_type": "code",
   "execution_count": null,
   "id": "3823aa12-7e8e-4f2f-a7a7-5d70a7d29e66",
   "metadata": {},
   "outputs": [],
   "source": [
    "# export as a text file\n",
    "\n"
   ]
  }
 ],
 "metadata": {
  "kernelspec": {
   "display_name": "Python 3 (ipykernel)",
   "language": "python",
   "name": "python3"
  },
  "language_info": {
   "codemirror_mode": {
    "name": "ipython",
    "version": 3
   },
   "file_extension": ".py",
   "mimetype": "text/x-python",
   "name": "python",
   "nbconvert_exporter": "python",
   "pygments_lexer": "ipython3",
   "version": "3.9.13"
  }
 },
 "nbformat": 4,
 "nbformat_minor": 5
}
