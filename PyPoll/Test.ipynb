{
 "cells": [
  {
   "cell_type": "code",
   "execution_count": null,
   "id": "4433ee20-c5ba-46b2-84e4-12e59defbd81",
   "metadata": {},
   "outputs": [],
   "source": [
    "import os\n",
    "import csv"
   ]
  },
  {
   "cell_type": "code",
   "execution_count": null,
   "id": "91b78b22-e23c-4ae2-9bb9-ecb407f00089",
   "metadata": {},
   "outputs": [],
   "source": [
    "# Lists to store data\n",
    "NumVotes = []\n",
    "Candidates = []\n",
    "PercentVotes = []\n",
    "VoteTotals = []\n",
    "ElectionWinner = []\n"
   ]
  },
  {
   "cell_type": "code",
   "execution_count": 6,
   "id": "0dc39990-25af-4779-860c-e2f2da3aebb7",
   "metadata": {},
   "outputs": [
    {
     "ename": "SyntaxError",
     "evalue": "invalid syntax (3788210751.py, line 3)",
     "output_type": "error",
     "traceback": [
      "\u001b[1;36m  File \u001b[1;32m\"C:\\Users\\paull\\AppData\\Local\\Temp\\ipykernel_8132\\3788210751.py\"\u001b[1;36m, line \u001b[1;32m3\u001b[0m\n\u001b[1;33m    for row in csvreader\u001b[0m\n\u001b[1;37m                        ^\u001b[0m\n\u001b[1;31mSyntaxError\u001b[0m\u001b[1;31m:\u001b[0m invalid syntax\n"
     ]
    }
   ],
   "source": [
    "with open(vote_data_csv) as csvfile:\n",
    "    csvreader = csv.reader(csvfile, delimiter=\",\")\n",
    "    for row in csvreader"
   ]
  },
  {
   "cell_type": "code",
   "execution_count": null,
   "id": "16861a31-182b-4f71-93d8-fd2524d82125",
   "metadata": {},
   "outputs": [],
   "source": []
  }
 ],
 "metadata": {
  "kernelspec": {
   "display_name": "Python 3 (ipykernel)",
   "language": "python",
   "name": "python3"
  },
  "language_info": {
   "codemirror_mode": {
    "name": "ipython",
    "version": 3
   },
   "file_extension": ".py",
   "mimetype": "text/x-python",
   "name": "python",
   "nbconvert_exporter": "python",
   "pygments_lexer": "ipython3",
   "version": "3.9.13"
  }
 },
 "nbformat": 4,
 "nbformat_minor": 5
}
